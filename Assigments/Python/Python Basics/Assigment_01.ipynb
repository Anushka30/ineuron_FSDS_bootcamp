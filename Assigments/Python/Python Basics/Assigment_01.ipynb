{
 "cells": [
  {
   "cell_type": "markdown",
   "id": "99194602-2c6d-490b-9a17-34697f856bc1",
   "metadata": {},
   "source": [
    "1. In the below elements which of them are values or an expression? eg:- values can be\n",
    "integer or string and expressions will be mathematical operators.\n",
    "*\n",
    "\n",
    "\"hello\"\n",
    "\n",
    "-87.8\n",
    "\n",
    "-\n",
    "\n",
    "/\n",
    "\n",
    "+\n",
    "\n",
    "6\n"
   ]
  },
  {
   "cell_type": "markdown",
   "id": "ff1d0617-5d4a-489d-a7d7-67d00328bad0",
   "metadata": {},
   "source": [
    "Values - \"hello\", -87.8, 5\n",
    "experission - *, -, /, +"
   ]
  },
  {
   "cell_type": "markdown",
   "id": "82ef696e-3c48-4d9d-ba5c-aa77276b25e9",
   "metadata": {},
   "source": [
    "2. What is the difference between string and variable?"
   ]
  },
  {
   "cell_type": "markdown",
   "id": "a1f15604-5a78-4dfb-a56f-90917868598f",
   "metadata": {},
   "source": [
    "string is sequence of one or more character like letter, number or symbol. Strings exist within either single quotes ' or double quotes \" ot in tripple quotes \"\"\" in Python, so to create a string.\n",
    "\n",
    "string example: 'This is a string in single quotes.'\n",
    "\n",
    "Variable: Variable are the symbol that used to store data in program. \n",
    "a =10\n",
    "Like above a is variable which is using to store int data. "
   ]
  },
  {
   "cell_type": "markdown",
   "id": "cbdf21cf-c900-4750-9a62-648c930fab7c",
   "metadata": {},
   "source": [
    "3. Describe three different data types."
   ]
  },
  {
   "cell_type": "markdown",
   "id": "89d03588-7be6-4de5-8d32-01a0e07e6954",
   "metadata": {},
   "source": [
    "1. Integer: The value represent by int class. It can be positive or negative whole number.\n",
    "2. string: A string is a collection of one or more characters put in a single quote, double-quote or triple quote. It is represent by str class.\n",
    "3. Boolean: The value represet by bool class. Value can be True or False."
   ]
  },
  {
   "cell_type": "markdown",
   "id": "cdb0e62e-f521-4bfd-ba74-013751e82288",
   "metadata": {},
   "source": [
    "4. What is an expression made up of? What do all expressions do?"
   ]
  },
  {
   "cell_type": "code",
   "execution_count": null,
   "id": "54617684-e364-4b58-a86b-5f4adfddf311",
   "metadata": {},
   "outputs": [],
   "source": [
    "An experssion is a combination"
   ]
  }
 ],
 "metadata": {
  "kernelspec": {
   "display_name": "Python 3 (ipykernel)",
   "language": "python",
   "name": "python3"
  },
  "language_info": {
   "codemirror_mode": {
    "name": "ipython",
    "version": 3
   },
   "file_extension": ".py",
   "mimetype": "text/x-python",
   "name": "python",
   "nbconvert_exporter": "python",
   "pygments_lexer": "ipython3",
   "version": "3.9.7"
  }
 },
 "nbformat": 4,
 "nbformat_minor": 5
}
